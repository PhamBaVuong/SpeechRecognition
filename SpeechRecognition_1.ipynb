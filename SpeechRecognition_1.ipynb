{
  "nbformat": 4,
  "nbformat_minor": 0,
  "metadata": {
    "colab": {
      "provenance": [],
      "toc_visible": true,
      "authorship_tag": "ABX9TyOp3km3/OWcrIQ3C4t4C0+L",
      "include_colab_link": true
    },
    "kernelspec": {
      "name": "python3",
      "display_name": "Python 3"
    },
    "language_info": {
      "name": "python"
    }
  },
  "cells": [
    {
      "cell_type": "markdown",
      "metadata": {
        "id": "view-in-github",
        "colab_type": "text"
      },
      "source": [
        "<a href=\"https://colab.research.google.com/github/PhamBaVuong/SpeechRecognition/blob/main/SpeechRecognition_1.ipynb\" target=\"_parent\"><img src=\"https://colab.research.google.com/assets/colab-badge.svg\" alt=\"Open In Colab\"/></a>"
      ]
    },
    {
      "cell_type": "code",
      "source": [
        "from google.colab import drive\n",
        "drive.mount('/content/drive')"
      ],
      "metadata": {
        "colab": {
          "base_uri": "https://localhost:8080/"
        },
        "id": "4WEgcwPLaqR1",
        "outputId": "8aeeba23-4caa-44f4-c3cb-a5cb93c99b1c"
      },
      "execution_count": 9,
      "outputs": [
        {
          "output_type": "stream",
          "name": "stdout",
          "text": [
            "Drive already mounted at /content/drive; to attempt to forcibly remount, call drive.mount(\"/content/drive\", force_remount=True).\n"
          ]
        }
      ]
    },
    {
      "cell_type": "markdown",
      "source": [
        "Audio Signal Parameters\n",
        "- number of channels: the number of the independent audio channels\n",
        "  + 1: mono\n",
        "  + 2: stereo\n",
        "- sample width: the number bytes for each sample\n",
        "- framerate/sample_rate: the number of samples for each second (Ex. 44,100 Hz or 44.1 kHz - the standard sampling rate for CD quality)\n",
        "- number of frame: the total number of frame\n",
        "- values of a frame: values in each frame, will be in binary format when load this, but can convert this to integer values"
      ],
      "metadata": {
        "id": "so3wv-R5XkkO"
      }
    },
    {
      "cell_type": "code",
      "execution_count": 10,
      "metadata": {
        "id": "Q6Dypu_VVvoL"
      },
      "outputs": [],
      "source": [
        "import wave"
      ]
    },
    {
      "cell_type": "code",
      "source": [
        "obj = wave.open('/content/drive/MyDrive/SpeechRecognition/01-basics_output.wav', 'rb')\n",
        "# rb: read binary mode"
      ],
      "metadata": {
        "id": "MLqeRZABZ_O9"
      },
      "execution_count": 11,
      "outputs": []
    },
    {
      "cell_type": "code",
      "source": [
        "print('Number of channels:', obj.getnchannels())\n",
        "print('Sample width:', obj.getsampwidth())\n",
        "print('Frame Rate:', obj.getframerate())\n",
        "print('Number of Frames:', obj.getnframes())\n",
        "print('Parameters:', obj.getparams())"
      ],
      "metadata": {
        "colab": {
          "base_uri": "https://localhost:8080/"
        },
        "id": "zSIFp1MnbE4l",
        "outputId": "9cf32665-1891-4829-82d6-df5bc8b97b8c"
      },
      "execution_count": 12,
      "outputs": [
        {
          "output_type": "stream",
          "name": "stdout",
          "text": [
            "Number of channels: 1\n",
            "Sample width: 2\n",
            "Frame Rate: 16000\n",
            "Number of Frames: 80000\n",
            "Parameters: _wave_params(nchannels=1, sampwidth=2, framerate=16000, nframes=80000, comptype='NONE', compname='not compressed')\n"
          ]
        }
      ]
    },
    {
      "cell_type": "code",
      "source": [
        "# time of the audio\n",
        "t_audio = obj.getnframes() / obj.getframerate()\n",
        "print(t_audio)"
      ],
      "metadata": {
        "colab": {
          "base_uri": "https://localhost:8080/"
        },
        "id": "xOrjD41xbvTZ",
        "outputId": "d7886d8f-9287-4af7-ac97-1d30c627826f"
      },
      "execution_count": 13,
      "outputs": [
        {
          "output_type": "stream",
          "name": "stdout",
          "text": [
            "5.0\n"
          ]
        }
      ]
    },
    {
      "cell_type": "code",
      "source": [
        "frames = obj.readframes(-1)\n",
        "# -1: read all frames\n",
        "print(type(frames), type(frames[0]))\n",
        "print(len(frames))\n",
        "# the length of the frames object is 160000 != the number of frames\n",
        "# the sample width is 2 means we have 2 bytes per sample\n",
        "# the length actually cut collate this divided by 2"
      ],
      "metadata": {
        "id": "9GRaEWtqdRLc",
        "outputId": "dab13d96-d413-43a5-89eb-c09c9d04c805",
        "colab": {
          "base_uri": "https://localhost:8080/"
        }
      },
      "execution_count": 14,
      "outputs": [
        {
          "output_type": "stream",
          "name": "stdout",
          "text": [
            "<class 'bytes'> <class 'int'>\n",
            "160000\n"
          ]
        }
      ]
    },
    {
      "cell_type": "code",
      "source": [
        "print(len(frames) / 2)"
      ],
      "metadata": {
        "id": "AbnpV6VBd3fj",
        "outputId": "b25ad6ca-1c64-42a9-8cb2-5f2628868c0b",
        "colab": {
          "base_uri": "https://localhost:8080/"
        }
      },
      "execution_count": 15,
      "outputs": [
        {
          "output_type": "stream",
          "name": "stdout",
          "text": [
            "80000.0\n"
          ]
        }
      ]
    },
    {
      "cell_type": "code",
      "source": [
        "obj.close()"
      ],
      "metadata": {
        "id": "MoHDEQi-f8oE"
      },
      "execution_count": 18,
      "outputs": []
    },
    {
      "cell_type": "code",
      "source": [
        "obj_new = wave.open('/content/drive/MyDrive/SpeechRecognition/01-basics_output_new.wav', 'wb')\n",
        "# wb: write binary mode"
      ],
      "metadata": {
        "id": "D8H_9hswe0zZ"
      },
      "execution_count": 16,
      "outputs": []
    },
    {
      "cell_type": "code",
      "source": [
        "obj_new.setnchannels(1) # 1 channel\n",
        "obj_new.setsampwidth(2)\n",
        "obj_new.setframerate(16000.0)"
      ],
      "metadata": {
        "id": "uYDYaKoWfUUI"
      },
      "execution_count": 17,
      "outputs": []
    },
    {
      "cell_type": "code",
      "source": [
        "obj_new.writeframes(frames)"
      ],
      "metadata": {
        "id": "wW6ANOAYfvV_"
      },
      "execution_count": 19,
      "outputs": []
    },
    {
      "cell_type": "code",
      "source": [
        "obj_new.close()"
      ],
      "metadata": {
        "id": "S44md8sTgB38"
      },
      "execution_count": 20,
      "outputs": []
    }
  ]
}