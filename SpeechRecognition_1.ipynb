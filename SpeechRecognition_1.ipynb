{
  "nbformat": 4,
  "nbformat_minor": 0,
  "metadata": {
    "colab": {
      "provenance": [],
      "authorship_tag": "ABX9TyOyhEDyZJ2r9Hn5Jf0WjYr/",
      "include_colab_link": true
    },
    "kernelspec": {
      "name": "python3",
      "display_name": "Python 3"
    },
    "language_info": {
      "name": "python"
    }
  },
  "cells": [
    {
      "cell_type": "markdown",
      "metadata": {
        "id": "view-in-github",
        "colab_type": "text"
      },
      "source": [
        "<a href=\"https://colab.research.google.com/github/PhamBaVuong/SpeechRecognition/blob/main/SpeechRecognition_1.ipynb\" target=\"_parent\"><img src=\"https://colab.research.google.com/assets/colab-badge.svg\" alt=\"Open In Colab\"/></a>"
      ]
    },
    {
      "cell_type": "code",
      "source": [
        "from google.colab import drive\n",
        "drive.mount('/content/drive')"
      ],
      "metadata": {
        "colab": {
          "base_uri": "https://localhost:8080/"
        },
        "id": "4WEgcwPLaqR1",
        "outputId": "ceebbf60-86ad-4b4e-fd4d-93014cb4824b"
      },
      "execution_count": 2,
      "outputs": [
        {
          "output_type": "stream",
          "name": "stdout",
          "text": [
            "Mounted at /content/drive\n"
          ]
        }
      ]
    },
    {
      "cell_type": "markdown",
      "source": [
        "Audio Signal Parameters\n",
        "- number of channels: the number of the independent audio channels\n",
        "  + 1: mono\n",
        "  + 2: stereo\n",
        "- sample width: the number bytes for each sample\n",
        "- framerate/sample_rate: the number of samples for each second (Ex. 44,100 Hz or 44.1 kHz - the standard sampling rate for CD quality)\n",
        "- number of frame: the total number of frame\n",
        "- values of a frame: values in each frame, will be in binary format when load this, but can convert this to integer values"
      ],
      "metadata": {
        "id": "so3wv-R5XkkO"
      }
    },
    {
      "cell_type": "code",
      "execution_count": 1,
      "metadata": {
        "id": "Q6Dypu_VVvoL"
      },
      "outputs": [],
      "source": [
        "import wave"
      ]
    },
    {
      "cell_type": "code",
      "source": [
        "obj = wave.open('/content/drive/MyDrive/SpeechRecognition/01-basics_output.wav')"
      ],
      "metadata": {
        "id": "MLqeRZABZ_O9"
      },
      "execution_count": 3,
      "outputs": []
    },
    {
      "cell_type": "code",
      "source": [
        "print('Number of channels:', obj.getnchannels())\n",
        "print('Sample width:', obj.getsampwidth())\n",
        "print('Frame Rate:', obj.getframerate())\n",
        "print('Number of Frames:', obj.getnframes())\n",
        "print('Parameters:', obj.getparams())"
      ],
      "metadata": {
        "colab": {
          "base_uri": "https://localhost:8080/"
        },
        "id": "zSIFp1MnbE4l",
        "outputId": "3121427e-8737-4ad6-d9ab-ae986a766eea"
      },
      "execution_count": 4,
      "outputs": [
        {
          "output_type": "stream",
          "name": "stdout",
          "text": [
            "Number of channels: 1\n",
            "Sample width: 2\n",
            "Frame Rate: 16000\n",
            "Number of Frames: 80000\n",
            "Parameters: _wave_params(nchannels=1, sampwidth=2, framerate=16000, nframes=80000, comptype='NONE', compname='not compressed')\n"
          ]
        }
      ]
    },
    {
      "cell_type": "code",
      "source": [
        "# time of the audio\n",
        "t_audio = obj.getnframes() / obj.getframerate()\n",
        "print(t_audio)"
      ],
      "metadata": {
        "colab": {
          "base_uri": "https://localhost:8080/"
        },
        "id": "xOrjD41xbvTZ",
        "outputId": "53438fb9-043f-4efa-aa87-7952c653f8a2"
      },
      "execution_count": 5,
      "outputs": [
        {
          "output_type": "stream",
          "name": "stdout",
          "text": [
            "5.0\n"
          ]
        }
      ]
    },
    {
      "cell_type": "code",
      "source": [
        "frames = obj.readframes(-1)\n",
        "# -1: read all frames\n",
        "print(type(frames[0]))\n",
        "print(len(frames))"
      ],
      "metadata": {
        "id": "9GRaEWtqdRLc"
      },
      "execution_count": null,
      "outputs": []
    }
  ]
}